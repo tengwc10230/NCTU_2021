{
 "cells": [
  {
   "cell_type": "markdown",
   "metadata": {},
   "source": [
    "### Result"
   ]
  },
  {
   "cell_type": "markdown",
   "metadata": {},
   "source": [
    "```python \n",
    "運算 5000 x 5000 的矩陣乘法耗時\n",
    "python: 14h 17min 44s\n",
    "numpy: 16min 32s\n",
    "numba: 18min 52s\n",
    "```"
   ]
  },
  {
   "cell_type": "markdown",
   "metadata": {},
   "source": [
    "### Import"
   ]
  },
  {
   "cell_type": "code",
   "execution_count": 4,
   "metadata": {},
   "outputs": [],
   "source": [
    "import numpy as np\n",
    "from numba import jit"
   ]
  },
  {
   "cell_type": "markdown",
   "metadata": {},
   "source": [
    "### Python 矩陣乘法"
   ]
  },
  {
   "cell_type": "code",
   "execution_count": 1,
   "metadata": {},
   "outputs": [],
   "source": [
    "py_matrix = [[1 for _ in range(5000)] for _ in range(5000)]\n",
    "idx = list(range(5000))\n",
    "result = [[0 for _ in range(5000)] for _ in range(5000)]"
   ]
  },
  {
   "cell_type": "code",
   "execution_count": null,
   "metadata": {},
   "outputs": [],
   "source": [
    "%%time\n",
    "def python_matrix_multiplication():\n",
    "    for i in idx:\n",
    "        for j in idx:\n",
    "            for k in idx:\n",
    "                result[i][j] += py_matrix[i][k] * py_matrix[k][j] \n",
    "    print(result)\n",
    "    \n",
    "python_matrix_multiplication()"
   ]
  },
  {
   "cell_type": "markdown",
   "metadata": {},
   "source": [
    "### Numpy 矩陣乘法"
   ]
  },
  {
   "cell_type": "code",
   "execution_count": 6,
   "metadata": {},
   "outputs": [],
   "source": [
    "np_matrix = np.ones((5000, 5000), dtype='int')"
   ]
  },
  {
   "cell_type": "code",
   "execution_count": null,
   "metadata": {},
   "outputs": [],
   "source": [
    "%%time\n",
    "def numpy_matrix_multiplication():\n",
    "    return np_matrix.dot(np_matrix)\n",
    "\n",
    "print(numpy_matrix_multiplication())"
   ]
  },
  {
   "cell_type": "markdown",
   "metadata": {},
   "source": [
    "### Numba 矩陣乘法"
   ]
  },
  {
   "cell_type": "code",
   "execution_count": 5,
   "metadata": {},
   "outputs": [],
   "source": [
    "nb_matrix = np.ones((5000,5000), dtype='int32')\n",
    "idx = np.array(range(5000)).astype(np.int32)\n",
    "result = np.zeros(shape=(5000,5000)).astype(np.int32)"
   ]
  },
  {
   "cell_type": "code",
   "execution_count": null,
   "metadata": {},
   "outputs": [],
   "source": [
    "%%time\n",
    "@jit('void(int32[:,:],int32[:],int32[:,:])')\n",
    "def numba_matrix_multiplication(nb_matrix, idx, result):\n",
    "    for i in idx:\n",
    "        for j in idx:\n",
    "            for k in idx:\n",
    "                result[i][j] += nb_matrix[i][k] * nb_matrix[k][j]\n",
    "    print(result)\n",
    "numba_matrix_multiplication(nb_matrix, idx, result)"
   ]
  }
 ],
 "metadata": {
  "interpreter": {
   "hash": "de36d00e79a423a93d026e557db9f86d7c1c9394bec56ec74e79aef0525a8ded"
  },
  "kernelspec": {
   "display_name": "Python 3.8.8 64-bit ('base': conda)",
   "language": "python",
   "name": "python3"
  },
  "language_info": {
   "codemirror_mode": {
    "name": "ipython",
    "version": 3
   },
   "file_extension": ".py",
   "mimetype": "text/x-python",
   "name": "python",
   "nbconvert_exporter": "python",
   "pygments_lexer": "ipython3",
   "version": "3.8.8"
  },
  "orig_nbformat": 4
 },
 "nbformat": 4,
 "nbformat_minor": 2
}
