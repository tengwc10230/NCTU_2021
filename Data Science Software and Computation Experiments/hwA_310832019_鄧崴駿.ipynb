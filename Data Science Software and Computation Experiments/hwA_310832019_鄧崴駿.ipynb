{
 "cells": [
  {
   "cell_type": "code",
   "execution_count": 1,
   "metadata": {},
   "outputs": [],
   "source": [
    "%matplotlib inline\n",
    "import matplotlib.pyplot as plt\n",
    "from matplotlib.patches import Ellipse, Circle, Polygon, Arc"
   ]
  },
  {
   "cell_type": "code",
   "execution_count": 2,
   "metadata": {},
   "outputs": [
    {
     "data": {
      "text/plain": [
       "<matplotlib.patches.Arc at 0x167559aaa90>"
      ]
     },
     "execution_count": 2,
     "metadata": {},
     "output_type": "execute_result"
    },
    {
     "data": {
      "image/png": "[encoded data removed]",
      "text/plain": [
       "<Figure size 432x288 with 1 Axes>"
      ]
     },
     "metadata": {
      "needs_background": "light"
     },
     "output_type": "display_data"
    }
   ],
   "source": [
    "fig, ax = plt.subplots()\n",
    "ax.set_aspect(1)\n",
    "plt.axis((-2,2,-2,2))\n",
    "plt.title('NYCU')\n",
    "\n",
    "poly_l_ear=Polygon([[-0.8,0.3],[-0.8,0.92],[0.2,0.4]], facecolor='#867b3e', edgecolor='#8d8145', linewidth=2)\n",
    "poly_l_ear_in=Polygon([[-0.8,0.3],[-0.8,0.92],[-0.5,0.4]], facecolor='#fbde9a', edgecolor='#8d8145', linewidth=2)\n",
    "\n",
    "poly_r_ear=Polygon([[0.8,0.3],[0.8,1.0],[0.4,0.5]], facecolor='#867b3e', edgecolor='#8d8145', linewidth=2)\n",
    "poly_r_ear_in=Polygon([[0.8,0.3],[0.8,1.0],[0.65,0.5]], facecolor='#fbde9a', edgecolor='#8d8145', linewidth=2)\n",
    "\n",
    "ell=Ellipse((0,0), 2, 1.3, 0, facecolor='#fbde9a', edgecolor='#8d8145', linewidth=2)\n",
    "poly_l_eyebrow=Polygon([[-0.4,0.3],[-0.2,0.425]], color='#918447', linewidth=2)\n",
    "poly_r_eyebrow=Polygon([[0.45,0.275],[0.25,0.4]], color='#918447', linewidth=3.5)\n",
    "\n",
    "circ_l_eye=Circle((-0.27, 0.15), 0.03, color='#918447')\n",
    "circ_r_eye=Circle((0.28, 0.15), 0.03, color='#918447')\n",
    "circ_nose=Circle((0.01, 0.12), 0.06, color='#918447')\n",
    "\n",
    "arc_l=Arc((-0.1,0.1), 0.2, 0.2, theta1=215, theta2=360, linewidth=2.5, color='#918447')\n",
    "arc_r=Arc((0.1,0.1), 0.2, 0.2, theta1=180, theta2=340, linewidth=2.5, color='#918447')\n",
    "\n",
    "ax.add_artist(poly_l_ear)\n",
    "ax.add_artist(poly_l_ear_in)\n",
    "ax.add_artist(poly_r_ear)\n",
    "ax.add_artist(poly_r_ear_in)\n",
    "ax.add_artist(ell)\n",
    "ax.add_artist(poly_l_eyebrow)\n",
    "ax.add_artist(poly_r_eyebrow)\n",
    "ax.add_artist(circ_l_eye)\n",
    "ax.add_artist(circ_r_eye)\n",
    "ax.add_artist(circ_nose)\n",
    "ax.add_artist(arc_l)\n",
    "ax.add_artist(arc_r)\n"
   ]
  }
 ],
 "metadata": {
  "interpreter": {
   "hash": "de36d00e79a423a93d026e557db9f86d7c1c9394bec56ec74e79aef0525a8ded"
  },
  "kernelspec": {
   "display_name": "Python 3.8.8 64-bit ('base': conda)",
   "name": "python3"
  },
  "language_info": {
   "codemirror_mode": {
    "name": "ipython",
    "version": 3
   },
   "file_extension": ".py",
   "mimetype": "text/x-python",
   "name": "python",
   "nbconvert_exporter": "python",
   "pygments_lexer": "ipython3",
   "version": "3.8.8"
  },
  "orig_nbformat": 4
 },
 "nbformat": 4,
 "nbformat_minor": 2
}
