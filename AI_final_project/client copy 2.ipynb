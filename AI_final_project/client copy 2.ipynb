{
 "cells": [
  {
   "cell_type": "code",
   "execution_count": 1,
   "metadata": {},
   "outputs": [
    {
     "name": "stdout",
     "output_type": "stream",
     "text": [
      "b'Hello'\n",
      "b'Hello'\n",
      "b'Hello'\n",
      "b'Hello'\n"
     ]
    },
    {
     "ename": "KeyboardInterrupt",
     "evalue": "",
     "output_type": "error",
     "traceback": [
      "\u001b[1;31m---------------------------------------------------------------------------\u001b[0m",
      "\u001b[1;31mKeyboardInterrupt\u001b[0m                         Traceback (most recent call last)",
      "\u001b[1;32m<ipython-input-1-1e0b6f73c366>\u001b[0m in \u001b[0;36m<module>\u001b[1;34m\u001b[0m\n\u001b[0;32m      7\u001b[0m     \u001b[0mr\u001b[0m \u001b[1;33m=\u001b[0m \u001b[0mrandint\u001b[0m\u001b[1;33m(\u001b[0m\u001b[1;36m0\u001b[0m\u001b[1;33m,\u001b[0m\u001b[1;36m100\u001b[0m\u001b[1;33m)\u001b[0m\u001b[1;33m\u001b[0m\u001b[1;33m\u001b[0m\u001b[0m\n\u001b[0;32m      8\u001b[0m     \u001b[0ms\u001b[0m\u001b[1;33m.\u001b[0m\u001b[0msend\u001b[0m\u001b[1;33m(\u001b[0m\u001b[1;34mb'Hello'\u001b[0m \u001b[1;33m)\u001b[0m\u001b[1;33m\u001b[0m\u001b[1;33m\u001b[0m\u001b[0m\n\u001b[1;32m----> 9\u001b[1;33m     \u001b[0mtime\u001b[0m\u001b[1;33m.\u001b[0m\u001b[0msleep\u001b[0m\u001b[1;33m(\u001b[0m\u001b[1;36m3\u001b[0m\u001b[1;33m)\u001b[0m\u001b[1;33m\u001b[0m\u001b[1;33m\u001b[0m\u001b[0m\n\u001b[0m\u001b[0;32m     10\u001b[0m     \u001b[0mprint\u001b[0m\u001b[1;33m(\u001b[0m\u001b[0ms\u001b[0m\u001b[1;33m.\u001b[0m\u001b[0mrecv\u001b[0m\u001b[1;33m(\u001b[0m\u001b[1;36m8192\u001b[0m\u001b[1;33m)\u001b[0m\u001b[1;33m)\u001b[0m\u001b[1;33m\u001b[0m\u001b[1;33m\u001b[0m\u001b[0m\n",
      "\u001b[1;31mKeyboardInterrupt\u001b[0m: "
     ]
    }
   ],
   "source": [
    "from socket import socket, AF_INET, SOCK_STREAM\n",
    "from random import randint\n",
    "import time\n",
    "s = socket(AF_INET, SOCK_STREAM)\n",
    "s.connect(('140.113.110.41', 50051))\n",
    "while True:\n",
    "    r = randint(0,100)\n",
    "    s.send(b'Hello' )\n",
    "    time.sleep(3)\n",
    "    print(s.recv(8192))"
   ]
  },
  {
   "cell_type": "code",
   "execution_count": null,
   "metadata": {},
   "outputs": [],
   "source": [
    "# class video_capture_client():\n",
    "#     def __init__(self, host, port):\n",
    "#         self.frame = []\n",
    "#         self.status = False\n",
    "#         self.isclose = False\n",
    "#         self.client_socket = socket.socket(socket.AF_INET, socket.SOCK_STREAM)\n",
    "#         self.client_socket.connect((host, port))\n",
    "#         self.cap = cv2.VideoCapture(0)      \n",
    "    \n",
    "#     def send_frame(self):\n",
    "#         while(self.cap.isOpened() and not self.isclose):\n",
    "#             self.status, self.frame = self.cap.read()\n",
    "#             data = cv2.imencode('.jpg', self.frame)[1].tobytes()\n",
    "#             self.client_socket.sendall(struct.pack(\"I\", len(data)) + data)\n",
    "#             # indata = self.client_socket.recv(1024)\n",
    "#             # if len(indata) != 0:\n",
    "#             #     print('recv:' + indata.decode())\n",
    "\n",
    "#         # 釋放攝影機\n",
    "#         self.cap.release()\n",
    "#         self.client_socket.close()\n",
    "    \n",
    "#     def recv_result(self):\n",
    "#         while(True):\n",
    "#             print('??????')\n",
    "#             # result = self.client_socket.recv(1024)\n",
    "#             # print('recv: ' + result.decode())\n",
    "\n"
   ]
  },
  {
   "cell_type": "code",
   "execution_count": null,
   "metadata": {},
   "outputs": [],
   "source": [
    "# if __name__ == \"__main__\":\n",
    "#     host = '140.113.110.41'\n",
    "#     port = 50051\n",
    "#     vc_client = video_capture_client(host, port)\n",
    "#     vc_client.send_frame()\n",
    "#     # send = threading.Thread(target = vc_client.send_frame(), args=())\n",
    "#     # send.start()\n",
    "    \n",
    "    "
   ]
  },
  {
   "cell_type": "code",
   "execution_count": null,
   "metadata": {},
   "outputs": [],
   "source": []
  }
 ],
 "metadata": {
  "interpreter": {
   "hash": "de36d00e79a423a93d026e557db9f86d7c1c9394bec56ec74e79aef0525a8ded"
  },
  "kernelspec": {
   "display_name": "Python 3.8.8 64-bit ('base': conda)",
   "language": "python",
   "name": "python3"
  },
  "language_info": {
   "codemirror_mode": {
    "name": "ipython",
    "version": 3
   },
   "file_extension": ".py",
   "mimetype": "text/x-python",
   "name": "python",
   "nbconvert_exporter": "python",
   "pygments_lexer": "ipython3",
   "version": "3.8.8"
  },
  "orig_nbformat": 4
 },
 "nbformat": 4,
 "nbformat_minor": 2
}
