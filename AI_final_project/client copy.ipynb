{
 "cells": [
  {
   "cell_type": "code",
   "execution_count": 1,
   "metadata": {},
   "outputs": [],
   "source": [
    "import cv2\n",
    "import socket\n",
    "import struct\n",
    "import threading"
   ]
  },
  {
   "cell_type": "code",
   "execution_count": 2,
   "metadata": {},
   "outputs": [],
   "source": [
    "global result_txt\n",
    "result_txt = \"\"\n",
    "\n",
    "def send_frame(cap, client_socket):\n",
    "    while(cap.isOpened()):\n",
    "        status, frame = cap.read()\n",
    "        global result_text\n",
    "        data = cv2.imencode('.jpg', frame)[1].tobytes()\n",
    "        client_socket.sendall(struct.pack(\"I\", len(data)) + data)\n",
    "        cv2.putText(frame, result_txt, (150, 400), cv2.FONT_HERSHEY_TRIPLEX, 1, (255, 255, 255), 1, 16)\n",
    "        cv2.imshow('Image', frame)\n",
    "        if cv2.waitKey(1) & 0xFF == ord('q'):\n",
    "            break\n",
    "\n",
    "    # 釋放攝影機和socket\n",
    "    cap.release()\n",
    "    cv2.destroyAllWindows()\n",
    "    client_socket.close()\n",
    "    \n",
    "def recv_result(cap, client_socket):\n",
    "    while(cap.isOpened()):\n",
    "        result = client_socket.recv(1024)\n",
    "        global result_txt\n",
    "        result_txt = result.decode()\n",
    "    cap.release()\n",
    "    cv2.destroyAllWindows()\n",
    "    client_socket.close()\n"
   ]
  },
  {
   "cell_type": "code",
   "execution_count": 3,
   "metadata": {},
   "outputs": [
    {
     "name": "stderr",
     "output_type": "stream",
     "text": [
      "Exception in thread Thread-5:\n",
      "Traceback (most recent call last):\n",
      "  File \"C:\\Users\\tengwc\\anaconda3\\lib\\threading.py\", line 932, in _bootstrap_inner\n",
      "    self.run()\n",
      "  File \"C:\\Users\\tengwc\\anaconda3\\lib\\threading.py\", line 870, in run\n",
      "    self._target(*self._args, **self._kwargs)\n",
      "  File \"<ipython-input-2-02dedf8f51c3>\", line 22, in recv_result\n",
      "ConnectionResetError: [WinError 10054] 遠端主機已強制關閉一個現存的連線。\n",
      "Exception in thread Thread-4:\n",
      "Traceback (most recent call last):\n",
      "  File \"C:\\Users\\tengwc\\anaconda3\\lib\\threading.py\", line 932, in _bootstrap_inner\n",
      "    self.run()\n",
      "  File \"C:\\Users\\tengwc\\anaconda3\\lib\\threading.py\", line 870, in run\n",
      "    self._target(*self._args, **self._kwargs)\n",
      "  File \"<ipython-input-2-02dedf8f51c3>\", line 9, in send_frame\n",
      "ConnectionResetError: [WinError 10054] 遠端主機已強制關閉一個現存的連線。\n"
     ]
    }
   ],
   "source": [
    "if __name__ == \"__main__\":\n",
    "    host = '140.113.110.41'\n",
    "    port = 50051\n",
    "\n",
    "    client_socket = socket.socket(socket.AF_INET, socket.SOCK_STREAM)\n",
    "    client_socket.connect((host, port))\n",
    "    cap = cv2.VideoCapture(0)\n",
    "\n",
    "    threading.Thread(target = send_frame, args=(cap, client_socket)).start()\n",
    "    threading.Thread(target = recv_result, args=(cap, client_socket)).start()"
   ]
  }
 ],
 "metadata": {
  "interpreter": {
   "hash": "de36d00e79a423a93d026e557db9f86d7c1c9394bec56ec74e79aef0525a8ded"
  },
  "kernelspec": {
   "display_name": "Python 3.8.8 64-bit ('base': conda)",
   "language": "python",
   "name": "python3"
  },
  "language_info": {
   "codemirror_mode": {
    "name": "ipython",
    "version": 3
   },
   "file_extension": ".py",
   "mimetype": "text/x-python",
   "name": "python",
   "nbconvert_exporter": "python",
   "pygments_lexer": "ipython3",
   "version": "3.8.8"
  },
  "orig_nbformat": 4
 },
 "nbformat": 4,
 "nbformat_minor": 2
}
