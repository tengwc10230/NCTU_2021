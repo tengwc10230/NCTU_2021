{
 "cells": [
  {
   "cell_type": "code",
   "execution_count": 1,
   "metadata": {},
   "outputs": [],
   "source": [
    "import cv2\n",
    "import numpy as np\n",
    "import socket\n",
    "import struct\n",
    "from io import BytesIO\n",
    "\n",
    "def video_capture_client(host, port):\n",
    "    cap = cv2.VideoCapture(0)\n",
    "    client_socket = socket.socket(socket.AF_INET, socket.SOCK_STREAM)\n",
    "    client_socket.connect((host, port))\n",
    "  \n",
    "    while(cap.isOpened()):\n",
    "        _, frame = cap.read()\n",
    "\n",
    "        memfile = BytesIO()\n",
    "        np.save(memfile, frame)\n",
    "        memfile.seek(0)\n",
    "        data = memfile.read()\n",
    "\n",
    "        # 顯示圖片\n",
    "        cv2.imshow('frame', frame)\n",
    "        \n",
    "        client_socket.sendall(struct.pack(\"I\", len(data)) + data)\n",
    "        # 若按下 q 鍵則離開迴圈\n",
    "        if cv2.waitKey(1) & 0xFF == ord('q'):\n",
    "            break\n",
    "\n",
    "    # 釋放攝影機\n",
    "    cap.release()\n",
    "\n",
    "    # 關閉所有 OpenCV 視窗\n",
    "    cv2.destroyAllWindows()\n",
    "\n",
    "if __name__ == \"__main__\":\n",
    "    host = '140.113.110.25'\n",
    "    port = 50751\n",
    "    video_capture_client(host, port)"
   ]
  }
 ],
 "metadata": {
  "interpreter": {
   "hash": "de36d00e79a423a93d026e557db9f86d7c1c9394bec56ec74e79aef0525a8ded"
  },
  "kernelspec": {
   "display_name": "Python 3.8.8 64-bit ('base': conda)",
   "language": "python",
   "name": "python3"
  },
  "language_info": {
   "codemirror_mode": {
    "name": "ipython",
    "version": 3
   },
   "file_extension": ".py",
   "mimetype": "text/x-python",
   "name": "python",
   "nbconvert_exporter": "python",
   "pygments_lexer": "ipython3",
   "version": "3.8.8"
  },
  "orig_nbformat": 4
 },
 "nbformat": 4,
 "nbformat_minor": 2
}
